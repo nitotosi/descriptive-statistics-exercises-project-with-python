{
    "cells": [
        {
            "cell_type": "markdown",
            "id": "ac622319",
            "metadata": {},
            "source": [
                "# Descriptive Statistics Problems"
            ]
        },
        {
            "cell_type": "markdown",
            "id": "aa8993e4",
            "metadata": {},
            "source": [
                "### Exercise 1"
            ]
        },
        {
            "cell_type": "markdown",
            "id": "5e0ab0d5",
            "metadata": {},
            "source": [
                "As right now, you are familliar with numpy, we are going to use numpy to get some data statistics.\n",
                "\n",
                "First, lets create an array of 20 elements distributed normally (Gaussian):\n",
                "\n",
                "Use the np.random.normal function to create some data, using 0,1,20 as parameters because we want a one dimentional array of 20 numbers distributed normally (Gaussian)"
            ]
        },
        {
            "cell_type": "code",
            "execution_count": 1,
            "id": "34720ab6",
            "metadata": {},
            "outputs": [
                {
                    "name": "stdout",
                    "output_type": "stream",
                    "text": [
                        "[-1.40546485 -1.1818991  -0.16088389  0.27867305 -1.34703447  0.52904828\n",
                        "  0.78747515  0.07066228  0.52140507  0.49310984  0.72771375 -1.93503668\n",
                        " -0.51665373  0.54834611  1.06174592 -0.79686012  0.04848391 -0.41091429\n",
                        " -0.78437461  0.25652753]\n"
                    ]
                }
            ],
            "source": [
                "#import libraries\n",
                "import numpy as np\n",
                "\n",
                "# Set seed in order to get similar results\n",
                "data = np.random.normal(0, 1, 20)\n",
                "\n",
                "# create the data\n",
                "data = np.random.normal(0, 1, 20)\n",
                "\n",
                "#print results\n",
                "print(data)"
            ]
        },
        {
            "cell_type": "code",
            "execution_count": 2,
            "id": "49c55822",
            "metadata": {},
            "outputs": [
                {
                    "data": {
                        "text/plain": [
                            "-0.16079654313528108"
                        ]
                    },
                    "execution_count": 2,
                    "metadata": {},
                    "output_type": "execute_result"
                }
            ],
            "source": [
                "#Use numpy to get the mean of your data\n",
                "data.mean()"
            ]
        },
        {
            "cell_type": "code",
            "execution_count": 3,
            "id": "03529459",
            "metadata": {},
            "outputs": [
                {
                    "data": {
                        "text/plain": [
                            "0.6824631888591652"
                        ]
                    },
                    "execution_count": 3,
                    "metadata": {},
                    "output_type": "execute_result"
                }
            ],
            "source": [
                "#get the variance of your data\n",
                "data.var()"
            ]
        },
        {
            "cell_type": "code",
            "execution_count": 4,
            "id": "e53f30c5",
            "metadata": {},
            "outputs": [
                {
                    "data": {
                        "text/plain": [
                            "0.8261133026765549"
                        ]
                    },
                    "execution_count": 4,
                    "metadata": {},
                    "output_type": "execute_result"
                }
            ],
            "source": [
                "# Standard deviation\n",
                "data.std()"
            ]
        },
        {
            "cell_type": "code",
            "execution_count": 5,
            "id": "9bce852f",
            "metadata": {},
            "outputs": [],
            "source": [
                "#import libraries and print the mode\n",
                "\n",
                "\n",
                "# Mode for continuous array\n"
            ]
        },
        {
            "cell_type": "code",
            "execution_count": 6,
            "id": "c682cb6e",
            "metadata": {},
            "outputs": [],
            "source": [
                "# Median\n"
            ]
        },
        {
            "cell_type": "code",
            "execution_count": 7,
            "id": "39c3fabd",
            "metadata": {},
            "outputs": [],
            "source": [
                "# Print the Quantiles\n",
                "\n",
                "\n",
                "# This match with np.median, why?\n"
            ]
        },
        {
            "cell_type": "markdown",
            "id": "46c70c3d",
            "metadata": {},
            "source": [
                "### Exercise 2\n",
                "\n",
                "Write a Python program to calculate the standard deviation of the following data:\n",
                "```py\n",
                "data = [4, 2, 5, 8, 6]\n",
                "```"
            ]
        },
        {
            "cell_type": "code",
            "execution_count": 8,
            "id": "d590308e",
            "metadata": {},
            "outputs": [
                {
                    "ename": "IndentationError",
                    "evalue": "expected an indented block (4006267275.py, line 20)",
                    "output_type": "error",
                    "traceback": [
                        "\u001b[1;36m  Input \u001b[1;32mIn [8]\u001b[1;36m\u001b[0m\n\u001b[1;33m    def avg_calc(ls):\u001b[0m\n\u001b[1;37m    ^\u001b[0m\n\u001b[1;31mIndentationError\u001b[0m\u001b[1;31m:\u001b[0m expected an indented block\n"
                    ]
                }
            ],
            "source": [
                "import math\n",
                "import sys\n",
                "\n",
                "# Define the standard deviation function\n",
                "\n",
                "def sd_calc(data):\n",
                "    #code here\n",
                "    \n",
                "    \n",
                "    \n",
                "\n",
                "    # calculate stan. dev.\n",
                "    \n",
                "\n",
                "\n",
                "\n",
                "\n",
                "# Define the average function\n",
                "\n",
                "def avg_calc(ls):\n",
                "    #code here\n",
                "    \n",
                "    \n",
                "    \n",
                "\n",
                "    # calculate average\n",
                "    \n",
                "    \n",
                "    \n",
                "\n",
                "data = [4, 2, 5, 8, 6]\n",
                "\n",
                "#print the data\n",
                "\n",
                "#print the standard deviation of the data"
            ]
        },
        {
            "cell_type": "markdown",
            "id": "04b71791",
            "metadata": {},
            "source": [
                "Source:\n",
                "\n",
                "https://www.w3resource.com/"
            ]
        }
    ],
    "metadata": {
        "kernelspec": {
            "display_name": "Python 3.8.13 64-bit ('shims')",
            "language": "python",
            "name": "python3"
        },
        "language_info": {
            "codemirror_mode": {
                "name": "ipython",
                "version": 3
            },
            "file_extension": ".py",
            "mimetype": "text/x-python",
            "name": "python",
            "nbconvert_exporter": "python",
            "pygments_lexer": "ipython3",
            "version": "3.8.13"
        },
        "vscode": {
            "interpreter": {
                "hash": "9ac03a0a6051494cc606d484d27d20fce22fb7b4d169f583271e11d5ba46a56e"
            }
        }
    },
    "nbformat": 4,
    "nbformat_minor": 5
}
