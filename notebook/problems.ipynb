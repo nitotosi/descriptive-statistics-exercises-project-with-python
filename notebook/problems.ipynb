{
    "cells": [
        {
            "cell_type": "markdown",
            "id": "ac622319",
            "metadata": {},
            "source": [
                "# Descriptive Statistics Problems"
            ]
        },
        {
            "cell_type": "markdown",
            "id": "aa8993e4",
            "metadata": {},
            "source": [
                "### Exercise 1"
            ]
        },
        {
            "cell_type": "markdown",
            "id": "5e0ab0d5",
            "metadata": {},
            "source": [
                "As right now, you are familliar with numpy, we are going to use numpy to get some data statistics.\n",
                "\n",
                "First, lets create an array of 20 elements distributed normally (Gaussian):\n",
                "\n",
                "Use the np.random.normal function to create some data, using 0,1,20 as parameters because we want a one dimentional array of 20 numbers distributed normally (Gaussian)"
            ]
        },
        {
            "cell_type": "code",
            "execution_count": 1,
            "id": "34720ab6",
            "metadata": {},
            "outputs": [
                {
                    "name": "stdout",
                    "output_type": "stream",
                    "text": [
                        "[-0.1282258   0.32008529  0.43023566  0.20606946 -0.4000146  -1.16532102\n",
                        " -0.11881806 -0.47300721 -0.01156212  0.63784937  0.96237912 -0.52245245\n",
                        " -0.62501886  1.0419204  -0.19782978 -0.13274536  0.68664177  0.21106706\n",
                        "  0.98554631 -0.09112013]\n"
                    ]
                }
            ],
            "source": [
                "#import libraries\n",
                "import numpy as np\n",
                "\n",
                "# Set seed in order to get similar results\n",
                "data = np.random.normal(0, 1, 20)\n",
                "\n",
                "# create the data\n",
                "data = np.random.normal(0, 1, 20)\n",
                "\n",
                "#print results\n",
                "print(data)"
            ]
        },
        {
            "cell_type": "code",
            "execution_count": 2,
            "id": "49c55822",
            "metadata": {},
            "outputs": [
                {
                    "data": {
                        "text/plain": [
                            "0.08078395287682585"
                        ]
                    },
                    "execution_count": 2,
                    "metadata": {},
                    "output_type": "execute_result"
                }
            ],
            "source": [
                "#Use numpy to get the mean of your data\n",
                "data.mean()"
            ]
        },
        {
            "cell_type": "code",
            "execution_count": 3,
            "id": "03529459",
            "metadata": {},
            "outputs": [
                {
                    "data": {
                        "text/plain": [
                            "0.33032660324094343"
                        ]
                    },
                    "execution_count": 3,
                    "metadata": {},
                    "output_type": "execute_result"
                }
            ],
            "source": [
                "#get the variance of your data\n",
                "data.var()"
            ]
        },
        {
            "cell_type": "code",
            "execution_count": 4,
            "id": "e53f30c5",
            "metadata": {},
            "outputs": [
                {
                    "data": {
                        "text/plain": [
                            "0.574740465985251"
                        ]
                    },
                    "execution_count": 4,
                    "metadata": {},
                    "output_type": "execute_result"
                }
            ],
            "source": [
                "# Standard deviation\n",
                "data.std()"
            ]
        },
        {
            "cell_type": "code",
            "execution_count": 5,
            "id": "9bce852f",
            "metadata": {},
            "outputs": [
                {
                    "name": "stderr",
                    "output_type": "stream",
                    "text": [
                        "/tmp/ipykernel_1631/3588006316.py:5: FutureWarning: Unlike other reduction functions (e.g. `skew`, `kurtosis`), the default behavior of `mode` typically preserves the axis it acts along. In SciPy 1.11.0, this behavior will change: the default value of `keepdims` will become False, the `axis` over which the statistic is taken will be eliminated, and the value None will no longer be accepted. Set `keepdims` to True or False to avoid this warning.\n",
                        "  st.mode(data)\n"
                    ]
                },
                {
                    "data": {
                        "text/plain": [
                            "ModeResult(mode=array([-1.16532102]), count=array([1]))"
                        ]
                    },
                    "execution_count": 5,
                    "metadata": {},
                    "output_type": "execute_result"
                }
            ],
            "source": [
                "#import libraries and print the mode\n",
                "from scipy import stats as st\n",
                "\n",
                "# Mode for continuous array\n",
                "st.mode(data)"
            ]
        },
        {
            "cell_type": "code",
            "execution_count": 8,
            "id": "c682cb6e",
            "metadata": {},
            "outputs": [
                {
                    "data": {
                        "text/plain": [
                            "-0.051341122177781306"
                        ]
                    },
                    "execution_count": 8,
                    "metadata": {},
                    "output_type": "execute_result"
                }
            ],
            "source": [
                "# Median\n",
                "np.median(data)"
            ]
        },
        {
            "cell_type": "code",
            "execution_count": 9,
            "id": "39c3fabd",
            "metadata": {},
            "outputs": [
                {
                    "name": "stdout",
                    "output_type": "stream",
                    "text": [
                        "-0.051341122177781306\n"
                    ]
                }
            ],
            "source": [
                "# Print the Quantiles\n",
                "print(np.quantile(data, 0.5))\n",
                "\n",
                "# This match with np.median, why?\n",
                "#Because by definition, the quantile 'max(data)-min(data)/2' is the value that's half way through the orded 'data'. It's the same definition as the median."
            ]
        },
        {
            "cell_type": "markdown",
            "id": "46c70c3d",
            "metadata": {},
            "source": [
                "### Exercise 2\n",
                "\n",
                "Write a Python program to calculate the standard deviation of the following data:\n",
                "```py\n",
                "data = [4, 2, 5, 8, 6]\n",
                "```"
            ]
        },
        {
            "cell_type": "code",
            "execution_count": 11,
            "id": "d590308e",
            "metadata": {},
            "outputs": [
                {
                    "name": "stdout",
                    "output_type": "stream",
                    "text": [
                        "[4, 2, 5, 8, 6]\n",
                        "4.47213595499958\n"
                    ]
                }
            ],
            "source": [
                "import math\n",
                "import sys\n",
                "\n",
                "# Define the standard deviation function\n",
                "\n",
                "def sd_calc(data):\n",
                "    #code here\n",
                "\n",
                "    average = avg_calc(data)\n",
                "    squared_differences = 0\n",
                "    for i in data:\n",
                "        squared_differences += (i-average)**2\n",
                "\n",
                "    # calculate stan. dev.\n",
                "    return np.sqrt(squared_differences)\n",
                "\n",
                "\n",
                "\n",
                "# Define the average function\n",
                "def avg_calc(ls):\n",
                "    #code here\n",
                "    sum = 0\n",
                "    for i in data:\n",
                "        sum += i    \n",
                "\n",
                "    # calculate average\n",
                "    return sum/len(ls)\n",
                "    \n",
                "    \n",
                "\n",
                "data = [4, 2, 5, 8, 6]\n",
                "\n",
                "#print the data\n",
                "print(data)\n",
                "\n",
                "#print the standard deviation of the data\n",
                "print(sd_calc(data))"
            ]
        },
        {
            "cell_type": "code",
            "execution_count": 13,
            "id": "d92b904a",
            "metadata": {},
            "outputs": [
                {
                    "name": "stdout",
                    "output_type": "stream",
                    "text": [
                        "5.0\n"
                    ]
                }
            ],
            "source": [
                "print(np.mean(data))"
            ]
        },
        {
            "cell_type": "markdown",
            "id": "04b71791",
            "metadata": {},
            "source": [
                "Source:\n",
                "\n",
                "https://www.w3resource.com/"
            ]
        }
    ],
    "metadata": {
        "kernelspec": {
            "display_name": "Python 3.8.13 64-bit ('shims')",
            "language": "python",
            "name": "python3"
        },
        "language_info": {
            "codemirror_mode": {
                "name": "ipython",
                "version": 3
            },
            "file_extension": ".py",
            "mimetype": "text/x-python",
            "name": "python",
            "nbconvert_exporter": "python",
            "pygments_lexer": "ipython3",
            "version": "3.8.13"
        },
        "vscode": {
            "interpreter": {
                "hash": "9ac03a0a6051494cc606d484d27d20fce22fb7b4d169f583271e11d5ba46a56e"
            }
        }
    },
    "nbformat": 4,
    "nbformat_minor": 5
}
